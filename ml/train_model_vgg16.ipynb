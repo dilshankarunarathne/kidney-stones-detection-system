{
 "cells": [
  {
   "cell_type": "code",
   "execution_count": 3,
   "id": "initial_id",
   "metadata": {
    "collapsed": true,
    "ExecuteTime": {
     "end_time": "2024-01-26T15:37:38.246100700Z",
     "start_time": "2024-01-26T15:37:08.458133500Z"
    }
   },
   "outputs": [
    {
     "name": "stderr",
     "output_type": "stream",
     "text": [
      "\n",
      "Copying files: 0 files [00:00, ? files/s]\u001B[A\n",
      "Copying files: 1 files [00:00,  4.73 files/s]\u001B[A\n",
      "Copying files: 104 files [00:00, 399.62 files/s]\u001B[A\n",
      "Copying files: 239 files [00:00, 728.97 files/s]\u001B[A\n",
      "Copying files: 372 files [00:00, 885.99 files/s]\u001B[A\n",
      "Copying files: 505 files [00:00, 990.57 files/s]\u001B[A\n",
      "Copying files: 614 files [00:00, 1011.83 files/s]\u001B[A\n",
      "Copying files: 721 files [00:00, 1019.23 files/s]\u001B[A\n",
      "Copying files: 827 files [00:00, 999.40 files/s] \u001B[A\n",
      "Copying files: 930 files [00:01, 946.23 files/s]\u001B[A\n",
      "Copying files: 1037 files [00:01, 950.81 files/s]\u001B[A\n",
      "Copying files: 1161 files [00:01, 1001.47 files/s]\u001B[A\n",
      "Copying files: 1303 files [00:01, 1117.81 files/s]\u001B[A\n",
      "Copying files: 1460 files [00:01, 1244.56 files/s]\u001B[A\n",
      "Copying files: 1593 files [00:01, 1267.31 files/s]\u001B[A\n",
      "Copying files: 1749 files [00:01, 1350.36 files/s]\u001B[A\n",
      "Copying files: 1919 files [00:01, 1451.43 files/s]\u001B[A\n",
      "Copying files: 2067 files [00:01, 1458.84 files/s]\u001B[A\n",
      "Copying files: 2216 files [00:02, 1467.48 files/s]\u001B[A\n",
      "Copying files: 2364 files [00:02, 1413.25 files/s]\u001B[A\n",
      "Copying files: 2532 files [00:02, 1489.68 files/s]\u001B[A\n",
      "Copying files: 2705 files [00:02, 1556.29 files/s]\u001B[A\n",
      "Copying files: 2876 files [00:02, 1598.43 files/s]\u001B[A\n",
      "Copying files: 3047 files [00:02, 1629.04 files/s]\u001B[A\n",
      "Copying files: 3231 files [00:02, 1688.78 files/s]\u001B[A\n",
      "Copying files: 3415 files [00:02, 1728.51 files/s]\u001B[A\n",
      "Copying files: 3589 files [00:02, 1674.13 files/s]\u001B[A\n",
      "Copying files: 3757 files [00:03, 1102.86 files/s]\u001B[A\n",
      "Copying files: 3935 files [00:03, 1246.89 files/s]\u001B[A\n",
      "Copying files: 4108 files [00:03, 1359.59 files/s]\u001B[A\n",
      "Copying files: 4278 files [00:03, 1441.32 files/s]\u001B[A\n",
      "Copying files: 4438 files [00:03, 1441.82 files/s]\u001B[A\n",
      "Copying files: 4593 files [00:03, 1450.41 files/s]\u001B[A\n",
      "Copying files: 4769 files [00:03, 1533.85 files/s]\u001B[A\n",
      "Copying files: 4949 files [00:03, 1606.08 files/s]\u001B[A\n",
      "Copying files: 5125 files [00:03, 1649.21 files/s]\u001B[A\n",
      "Copying files: 5294 files [00:04, 1657.77 files/s]\u001B[A\n",
      "Copying files: 5463 files [00:04, 1656.46 files/s]\u001B[A\n",
      "Copying files: 5638 files [00:04, 1681.26 files/s]\u001B[A\n",
      "Copying files: 5808 files [00:04, 1685.67 files/s]\u001B[A\n",
      "Copying files: 5978 files [00:04, 1634.60 files/s]\u001B[A\n",
      "Copying files: 6143 files [00:04, 1579.48 files/s]\u001B[A\n",
      "Copying files: 6313 files [00:04, 1611.15 files/s]\u001B[A\n",
      "Copying files: 6475 files [00:04, 1610.17 files/s]\u001B[A\n",
      "Copying files: 6637 files [00:04, 1511.68 files/s]\u001B[A\n",
      "Copying files: 6794 files [00:04, 1524.05 files/s]\u001B[A\n",
      "Copying files: 6948 files [00:05, 1524.82 files/s]\u001B[A\n",
      "Copying files: 7114 files [00:05, 1560.53 files/s]\u001B[A\n",
      "Copying files: 7288 files [00:05, 1611.56 files/s]\u001B[A\n",
      "Copying files: 7453 files [00:05, 1622.71 files/s]\u001B[A\n",
      "Copying files: 7616 files [00:05, 1583.40 files/s]\u001B[A\n",
      "Copying files: 7791 files [00:05, 1630.26 files/s]\u001B[A\n",
      "Copying files: 7955 files [00:06, 795.94 files/s] \u001B[A\n",
      "Copying files: 8081 files [00:06, 444.40 files/s]\u001B[A\n",
      "Copying files: 8175 files [00:07, 323.60 files/s]\u001B[A\n",
      "Copying files: 8246 files [00:07, 275.53 files/s]\u001B[A\n",
      "Copying files: 8300 files [00:08, 244.50 files/s]\u001B[A\n",
      "Copying files: 8343 files [00:08, 236.35 files/s]\u001B[A\n",
      "Copying files: 8379 files [00:08, 231.81 files/s]\u001B[A\n",
      "Copying files: 8411 files [00:08, 226.09 files/s]\u001B[A\n",
      "Copying files: 8439 files [00:08, 217.18 files/s]\u001B[A\n",
      "Copying files: 8465 files [00:08, 206.58 files/s]\u001B[A\n",
      "Copying files: 8488 files [00:09, 205.35 files/s]\u001B[A\n",
      "Copying files: 8510 files [00:09, 205.44 files/s]\u001B[A\n",
      "Copying files: 8532 files [00:09, 185.07 files/s]\u001B[A\n",
      "Copying files: 8552 files [00:09, 188.11 files/s]\u001B[A\n",
      "Copying files: 8573 files [00:09, 192.50 files/s]\u001B[A\n",
      "Copying files: 8593 files [00:09, 191.75 files/s]\u001B[A\n",
      "Copying files: 8614 files [00:09, 195.77 files/s]\u001B[A\n",
      "Copying files: 8634 files [00:09, 175.94 files/s]\u001B[A\n",
      "Copying files: 8655 files [00:09, 183.64 files/s]\u001B[A\n",
      "Copying files: 8674 files [00:10, 180.01 files/s]\u001B[A\n",
      "Copying files: 8693 files [00:10, 181.02 files/s]\u001B[A\n",
      "Copying files: 8712 files [00:10, 182.20 files/s]\u001B[A\n",
      "Copying files: 8731 files [00:10, 180.84 files/s]\u001B[A\n",
      "Copying files: 8750 files [00:10, 178.24 files/s]\u001B[A\n",
      "Copying files: 8768 files [00:10, 166.19 files/s]\u001B[A\n",
      "Copying files: 8787 files [00:10, 155.03 files/s]\u001B[A\n",
      "Copying files: 8808 files [00:10, 167.31 files/s]\u001B[A\n",
      "Copying files: 8828 files [00:10, 176.04 files/s]\u001B[A\n",
      "Copying files: 8846 files [00:11, 175.60 files/s]\u001B[A\n",
      "Copying files: 8867 files [00:11, 183.62 files/s]\u001B[A\n",
      "Copying files: 8887 files [00:11, 187.38 files/s]\u001B[A\n",
      "Copying files: 8908 files [00:11, 191.72 files/s]\u001B[A\n",
      "Copying files: 8928 files [00:11, 193.11 files/s]\u001B[A\n",
      "Copying files: 8948 files [00:11, 184.90 files/s]\u001B[A\n",
      "Copying files: 8970 files [00:11, 192.57 files/s]\u001B[A\n",
      "Copying files: 8990 files [00:11, 188.14 files/s]\u001B[A\n",
      "Copying files: 9011 files [00:11, 191.92 files/s]\u001B[A\n",
      "Copying files: 9031 files [00:12, 193.00 files/s]\u001B[A\n",
      "Copying files: 9051 files [00:12, 178.67 files/s]\u001B[A\n",
      "Copying files: 9072 files [00:12, 185.83 files/s]\u001B[A\n",
      "Copying files: 9091 files [00:12, 176.70 files/s]\u001B[A\n",
      "Copying files: 9111 files [00:12, 183.05 files/s]\u001B[A\n",
      "Copying files: 9130 files [00:12, 175.54 files/s]\u001B[A\n",
      "Copying files: 9149 files [00:12, 179.35 files/s]\u001B[A\n",
      "Copying files: 9170 files [00:12, 187.48 files/s]\u001B[A\n",
      "Copying files: 9189 files [00:12, 185.92 files/s]\u001B[A\n",
      "Copying files: 9208 files [00:13, 186.99 files/s]\u001B[A\n",
      "Copying files: 9227 files [00:13, 186.01 files/s]\u001B[A\n",
      "Copying files: 9247 files [00:13, 188.33 files/s]\u001B[A\n",
      "Copying files: 9267 files [00:13, 191.66 files/s]\u001B[A\n",
      "Copying files: 9287 files [00:13, 193.37 files/s]\u001B[A\n",
      "Copying files: 9307 files [00:13, 190.95 files/s]\u001B[A\n",
      "Copying files: 9327 files [00:13, 179.86 files/s]\u001B[A\n",
      "Copying files: 9346 files [00:13, 178.21 files/s]\u001B[A\n",
      "Copying files: 9366 files [00:13, 183.82 files/s]\u001B[A\n",
      "Copying files: 9385 files [00:13, 180.93 files/s]\u001B[A\n",
      "Copying files: 9404 files [00:14, 181.86 files/s]\u001B[A\n",
      "Copying files: 9423 files [00:14, 175.70 files/s]\u001B[A\n",
      "Copying files: 9443 files [00:14, 181.18 files/s]\u001B[A\n",
      "Copying files: 9462 files [00:14, 178.86 files/s]\u001B[A\n",
      "Copying files: 9483 files [00:14, 185.52 files/s]\u001B[A\n",
      "Copying files: 9504 files [00:14, 190.01 files/s]\u001B[A\n",
      "Copying files: 9524 files [00:14, 189.33 files/s]\u001B[A\n",
      "Copying files: 9545 files [00:14, 193.20 files/s]\u001B[A\n",
      "Copying files: 9565 files [00:14, 183.32 files/s]\u001B[A\n",
      "Copying files: 9585 files [00:15, 186.02 files/s]\u001B[A\n",
      "Copying files: 9604 files [00:15, 170.54 files/s]\u001B[A\n",
      "Copying files: 9622 files [00:15, 172.88 files/s]\u001B[A\n",
      "Copying files: 9642 files [00:15, 178.23 files/s]\u001B[A\n",
      "Copying files: 9661 files [00:15, 178.94 files/s]\u001B[A\n",
      "Copying files: 9681 files [00:15, 184.33 files/s]\u001B[A\n",
      "Copying files: 9700 files [00:15, 178.48 files/s]\u001B[A\n",
      "Copying files: 9721 files [00:15, 185.19 files/s]\u001B[A\n",
      "Copying files: 9742 files [00:15, 190.50 files/s]\u001B[A\n",
      "Copying files: 9762 files [00:16, 189.79 files/s]\u001B[A\n",
      "Copying files: 9782 files [00:16, 191.32 files/s]\u001B[A\n",
      "Copying files: 9802 files [00:16, 179.80 files/s]\u001B[A\n",
      "Copying files: 9821 files [00:16, 179.37 files/s]\u001B[A\n",
      "Copying files: 9842 files [00:16, 186.65 files/s]\u001B[A\n",
      "Copying files: 9861 files [00:16, 185.81 files/s]\u001B[A\n",
      "Copying files: 9881 files [00:16, 188.32 files/s]\u001B[A\n",
      "Copying files: 9902 files [00:16, 193.58 files/s]\u001B[A\n",
      "Copying files: 9923 files [00:16, 196.16 files/s]\u001B[A\n",
      "Copying files: 9943 files [00:17, 194.98 files/s]\u001B[A\n",
      "Copying files: 9963 files [00:17, 194.44 files/s]\u001B[A\n",
      "Copying files: 9983 files [00:17, 195.11 files/s]\u001B[A\n",
      "Copying files: 10003 files [00:17, 186.35 files/s]\u001B[A\n",
      "Copying files: 10024 files [00:17, 191.84 files/s]\u001B[A\n",
      "Copying files: 10044 files [00:17, 176.27 files/s]\u001B[A\n",
      "Copying files: 10064 files [00:17, 182.26 files/s]\u001B[A\n",
      "Copying files: 10084 files [00:17, 187.21 files/s]\u001B[A\n",
      "Copying files: 10104 files [00:17, 186.15 files/s]\u001B[A\n",
      "Copying files: 10123 files [00:17, 187.18 files/s]\u001B[A\n",
      "Copying files: 10144 files [00:18, 191.04 files/s]\u001B[A\n",
      "Copying files: 10164 files [00:18, 155.48 files/s]\u001B[A\n",
      "Copying files: 10185 files [00:18, 168.22 files/s]\u001B[A\n",
      "Copying files: 10207 files [00:18, 180.67 files/s]\u001B[A\n",
      "Copying files: 10227 files [00:18, 185.65 files/s]\u001B[A\n",
      "Copying files: 10249 files [00:18, 195.01 files/s]\u001B[A\n",
      "Copying files: 10270 files [00:18, 198.20 files/s]\u001B[A\n",
      "Copying files: 10291 files [00:18, 201.03 files/s]\u001B[A\n",
      "Copying files: 10312 files [00:18, 203.26 files/s]\u001B[A\n",
      "Copying files: 10335 files [00:19, 209.98 files/s]\u001B[A\n",
      "Copying files: 10357 files [00:19, 210.27 files/s]\u001B[A\n",
      "Copying files: 10379 files [00:19, 194.52 files/s]\u001B[A\n",
      "Copying files: 10401 files [00:19, 200.47 files/s]\u001B[A\n",
      "Copying files: 10422 files [00:19, 191.95 files/s]\u001B[A\n",
      "Copying files: 10444 files [00:19, 198.83 files/s]\u001B[A\n",
      "Copying files: 10465 files [00:19, 182.40 files/s]\u001B[A\n",
      "Copying files: 10484 files [00:19, 161.09 files/s]\u001B[A\n",
      "Copying files: 10504 files [00:20, 170.53 files/s]\u001B[A\n",
      "Copying files: 10522 files [00:20, 171.55 files/s]\u001B[A\n",
      "Copying files: 10542 files [00:20, 178.11 files/s]\u001B[A\n",
      "Copying files: 10562 files [00:20, 183.98 files/s]\u001B[A\n",
      "Copying files: 10584 files [00:20, 192.01 files/s]\u001B[A\n",
      "Copying files: 10607 files [00:20, 200.58 files/s]\u001B[A\n",
      "Copying files: 10631 files [00:20, 210.72 files/s]\u001B[A\n",
      "Copying files: 10653 files [00:20, 210.23 files/s]\u001B[A\n",
      "Copying files: 10676 files [00:20, 214.11 files/s]\u001B[A\n",
      "Copying files: 10699 files [00:20, 217.29 files/s]\u001B[A\n",
      "Copying files: 10722 files [00:21, 218.51 files/s]\u001B[A\n",
      "Copying files: 10744 files [00:21, 200.85 files/s]\u001B[A\n",
      "Copying files: 10766 files [00:21, 203.36 files/s]\u001B[A\n",
      "Copying files: 10788 files [00:21, 206.74 files/s]\u001B[A\n",
      "Copying files: 10809 files [00:21, 202.35 files/s]\u001B[A\n",
      "Copying files: 10832 files [00:21, 208.39 files/s]\u001B[A\n",
      "Copying files: 10853 files [00:21, 205.43 files/s]\u001B[A\n",
      "Copying files: 10877 files [00:21, 214.70 files/s]\u001B[A\n",
      "Copying files: 10899 files [00:21, 213.79 files/s]\u001B[A\n",
      "Copying files: 10921 files [00:22, 209.52 files/s]\u001B[A\n",
      "Copying files: 10945 files [00:22, 216.58 files/s]\u001B[A\n",
      "Copying files: 10967 files [00:22, 195.40 files/s]\u001B[A\n",
      "Copying files: 10987 files [00:22, 187.61 files/s]\u001B[A\n",
      "Copying files: 11009 files [00:22, 196.21 files/s]\u001B[A\n",
      "Copying files: 11029 files [00:22, 182.14 files/s]\u001B[A\n",
      "Copying files: 11051 files [00:22, 190.88 files/s]\u001B[A\n",
      "Copying files: 11074 files [00:22, 200.39 files/s]\u001B[A\n",
      "Copying files: 11095 files [00:22, 195.32 files/s]\u001B[A\n",
      "Copying files: 11117 files [00:23, 202.01 files/s]\u001B[A\n",
      "Copying files: 11138 files [00:23, 198.42 files/s]\u001B[A\n",
      "Copying files: 11159 files [00:23, 200.97 files/s]\u001B[A\n",
      "Copying files: 11182 files [00:23, 206.70 files/s]\u001B[A\n",
      "Copying files: 11203 files [00:23, 193.67 files/s]\u001B[A\n",
      "Copying files: 11225 files [00:23, 198.49 files/s]\u001B[A\n",
      "Copying files: 11246 files [00:23, 196.86 files/s]\u001B[A\n",
      "Copying files: 11268 files [00:23, 201.96 files/s]\u001B[A\n",
      "Copying files: 11290 files [00:23, 206.76 files/s]\u001B[A\n",
      "Copying files: 11311 files [00:24, 197.68 files/s]\u001B[A\n",
      "Copying files: 11334 files [00:24, 206.66 files/s]\u001B[A\n",
      "Copying files: 11355 files [00:24, 207.40 files/s]\u001B[A\n",
      "Copying files: 11376 files [00:24, 205.78 files/s]\u001B[A\n",
      "Copying files: 11397 files [00:24, 198.95 files/s]\u001B[A\n",
      "Copying files: 11417 files [00:24, 182.94 files/s]\u001B[A\n",
      "Copying files: 11439 files [00:24, 191.47 files/s]\u001B[A\n",
      "Copying files: 11462 files [00:24, 201.16 files/s]\u001B[A\n",
      "Copying files: 11483 files [00:24, 184.82 files/s]\u001B[A\n",
      "Copying files: 11502 files [00:25, 183.22 files/s]\u001B[A\n",
      "Copying files: 11521 files [00:25, 183.49 files/s]\u001B[A\n",
      "Copying files: 11543 files [00:25, 191.86 files/s]\u001B[A\n",
      "Copying files: 11565 files [00:25, 197.79 files/s]\u001B[A\n",
      "Copying files: 11587 files [00:25, 202.05 files/s]\u001B[A\n",
      "Copying files: 11608 files [00:25, 201.87 files/s]\u001B[A\n",
      "Copying files: 11630 files [00:25, 205.20 files/s]\u001B[A\n",
      "Copying files: 11651 files [00:25, 204.81 files/s]\u001B[A\n",
      "Copying files: 11672 files [00:25, 201.90 files/s]\u001B[A\n",
      "Copying files: 11693 files [00:25, 203.66 files/s]\u001B[A\n",
      "Copying files: 11714 files [00:26, 203.37 files/s]\u001B[A\n",
      "Copying files: 11735 files [00:26, 201.03 files/s]\u001B[A\n",
      "Copying files: 11756 files [00:26, 195.26 files/s]\u001B[A\n",
      "Copying files: 11776 files [00:26, 195.55 files/s]\u001B[A\n",
      "Copying files: 11800 files [00:26, 206.33 files/s]\u001B[A\n",
      "Copying files: 11823 files [00:26, 211.64 files/s]\u001B[A\n",
      "Copying files: 11846 files [00:26, 213.92 files/s]\u001B[A\n",
      "Copying files: 11868 files [00:26, 206.31 files/s]\u001B[A\n",
      "Copying files: 11889 files [00:26, 199.21 files/s]\u001B[A\n",
      "Copying files: 11910 files [00:27, 199.96 files/s]\u001B[A\n",
      "Copying files: 11931 files [00:27, 199.00 files/s]\u001B[A\n",
      "Copying files: 11953 files [00:27, 203.54 files/s]\u001B[A\n",
      "Copying files: 11974 files [00:27, 204.89 files/s]\u001B[A\n",
      "Copying files: 11995 files [00:27, 198.31 files/s]\u001B[A\n",
      "Copying files: 12017 files [00:27, 201.43 files/s]\u001B[A\n",
      "Copying files: 12038 files [00:27, 202.79 files/s]\u001B[A\n",
      "Copying files: 12059 files [00:27, 199.68 files/s]\u001B[A\n",
      "Copying files: 12081 files [00:27, 203.58 files/s]\u001B[A\n",
      "Copying files: 12102 files [00:27, 200.11 files/s]\u001B[A\n",
      "Copying files: 12123 files [00:28, 200.90 files/s]\u001B[A\n",
      "Copying files: 12145 files [00:28, 204.59 files/s]\u001B[A\n",
      "Copying files: 12166 files [00:28, 193.76 files/s]\u001B[A\n",
      "Copying files: 12187 files [00:28, 196.38 files/s]\u001B[A\n",
      "Copying files: 12208 files [00:28, 198.09 files/s]\u001B[A\n",
      "Copying files: 12228 files [00:28, 195.83 files/s]\u001B[A\n",
      "Copying files: 12250 files [00:28, 202.56 files/s]\u001B[A\n",
      "Copying files: 12271 files [00:28, 194.11 files/s]\u001B[A\n",
      "Copying files: 12291 files [00:28, 193.79 files/s]\u001B[A\n",
      "Copying files: 12311 files [00:29, 184.03 files/s]\u001B[A\n",
      "Copying files: 12332 files [00:29, 188.65 files/s]\u001B[A\n",
      "Copying files: 12352 files [00:29, 190.82 files/s]\u001B[A\n",
      "Copying files: 12372 files [00:29, 187.06 files/s]\u001B[A\n",
      "Copying files: 12394 files [00:29, 194.56 files/s]\u001B[A\n",
      "Copying files: 12414 files [00:29, 182.47 files/s]\u001B[A\n",
      "Copying files: 12446 files [00:29, 418.01 files/s]\u001B[A\n"
     ]
    }
   ],
   "source": [
    "import splitfolders\n",
    "splitfolders.ratio(\"./ct-ori-dataset\", output=\"dataset\", seed=1337, ratio=(.8, .1, .1), group_prefix=None)"
   ]
  },
  {
   "cell_type": "code",
   "execution_count": 1,
   "outputs": [
    {
     "data": {
      "text/html": "        <script type=\"text/javascript\">\n        window.PlotlyConfig = {MathJaxConfig: 'local'};\n        if (window.MathJax && window.MathJax.Hub && window.MathJax.Hub.Config) {window.MathJax.Hub.Config({SVG: {font: \"STIX-Web\"}});}\n        if (typeof require !== 'undefined') {\n        require.undef(\"plotly\");\n        requirejs.config({\n            paths: {\n                'plotly': ['https://cdn.plot.ly/plotly-2.27.0.min']\n            }\n        });\n        require(['plotly'], function(Plotly) {\n            window._Plotly = Plotly;\n        });\n        }\n        </script>\n        "
     },
     "metadata": {},
     "output_type": "display_data"
    }
   ],
   "source": [
    "import numpy as np\n",
    "import pandas as pd\n",
    "from sklearn.utils.multiclass import unique_labels\n",
    "import os\n",
    "import matplotlib.pyplot as plt\n",
    "import matplotlib.image as mpimg\n",
    "import seaborn as sns\n",
    "import itertools\n",
    "from sklearn.model_selection import train_test_split\n",
    "from sklearn.metrics import confusion_matrix\n",
    "from keras import Sequential\n",
    "from keras.preprocessing.image import ImageDataGenerator\n",
    "from tensorflow.keras.optimizers import SGD,Adam\n",
    "from keras.callbacks import ReduceLROnPlateau\n",
    "from keras.layers import Flatten,Dense,BatchNormalization,Activation,Dropout\n",
    "from tensorflow.keras.utils import to_categorical\n",
    "# Import all the libraries \n",
    "import os\n",
    "import shutil\n",
    "from PIL import Image, ImageOps  \n",
    "import matplotlib.pyplot as plt\n",
    "%matplotlib inline\n",
    "import seaborn as sns\n",
    "sns.set_style('white')\n",
    "import plotly.graph_objects as go\n",
    "import plotly.express as px\n",
    "import datetime\n",
    "from plotly.offline import init_notebook_mode, iplot\n",
    "import plotly.io as pio\n",
    "pio.templates.default = 'plotly_white'\n",
    "from plotly.subplots import make_subplots\n",
    "init_notebook_mode(connected=True)\n",
    "from tensorflow.keras.models import Sequential\n",
    "from tensorflow.keras.layers import Dense, Activation, Dropout, Concatenate, Flatten, MaxPooling2D, Conv2D\n",
    "from  tensorflow.keras.preprocessing.image import ImageDataGenerator"
   ],
   "metadata": {
    "collapsed": false,
    "ExecuteTime": {
     "end_time": "2024-01-26T18:45:48.382985900Z",
     "start_time": "2024-01-26T18:45:42.211540600Z"
    }
   },
   "id": "f9cc9d1a3ab20ca5"
  },
  {
   "cell_type": "code",
   "execution_count": 2,
   "outputs": [
    {
     "name": "stdout",
     "output_type": "stream",
     "text": [
      "test batch size:  32   test steps:  1\n",
      "Found 9955 images belonging to 4 classes.\n",
      "Found 1249 images belonging to 4 classes.\n",
      "Found 1242 images belonging to 4 classes.\n"
     ]
    }
   ],
   "source": [
    "channels=3\n",
    "batch_size=25\n",
    "test_batch_size=32 \n",
    "test_steps=1\n",
    "train_path = './dataset/train'\n",
    "test_path = './dataset/test'\n",
    "val_path = './dataset/val'\n",
    "print ( 'test batch size: ' ,test_batch_size, '  test steps: ', test_steps)\n",
    "def scalar(img):    \n",
    "    return img  # EfficientNet expects pixelsin range 0 to 255 so no scaling is required\n",
    "trgen=ImageDataGenerator(preprocessing_function=scalar, horizontal_flip=True)\n",
    "tvgen=ImageDataGenerator(preprocessing_function=scalar)\n",
    "train_generator=trgen.flow_from_directory( directory=train_path , target_size=(224,224), class_mode='categorical',\n",
    "                                    color_mode='rgb', shuffle=True, batch_size=batch_size)\n",
    "test_generator=tvgen.flow_from_directory( directory=test_path, target_size=(224,224), class_mode='categorical',\n",
    "                                    color_mode='rgb', shuffle=False, batch_size=test_batch_size)\n",
    "\n",
    "valid_generator=tvgen.flow_from_directory( directory=val_path, target_size=(224,224), class_mode='categorical',\n",
    "                                    color_mode='rgb', shuffle=True, batch_size=batch_size)\n",
    "classes=list(train_generator.class_indices.keys())\n",
    "class_count=len(classes)\n",
    "train_steps=int(np.ceil(len(train_generator.labels)/batch_size))"
   ],
   "metadata": {
    "collapsed": false,
    "ExecuteTime": {
     "end_time": "2024-01-26T18:45:48.860227600Z",
     "start_time": "2024-01-26T18:45:48.371934400Z"
    }
   },
   "id": "bcbb43514edf94c4"
  },
  {
   "cell_type": "code",
   "execution_count": 3,
   "outputs": [],
   "source": [
    "from keras.applications import VGG16\n",
    "\n",
    "base_model = VGG16(include_top = False, weights = 'imagenet', input_shape = (224,224,3), classes = 38)"
   ],
   "metadata": {
    "collapsed": false,
    "ExecuteTime": {
     "end_time": "2024-01-26T18:46:05.888071600Z",
     "start_time": "2024-01-26T18:46:04.744495300Z"
    }
   },
   "id": "629311a79930c372"
  },
  {
   "cell_type": "code",
   "execution_count": 4,
   "outputs": [],
   "source": [
    "model= Sequential()\n",
    "model.add(base_model) \n",
    "model.add(Flatten())"
   ],
   "metadata": {
    "collapsed": false,
    "ExecuteTime": {
     "end_time": "2024-01-26T18:46:06.702176300Z",
     "start_time": "2024-01-26T18:46:06.596568400Z"
    }
   },
   "id": "1a893b24d2a3866"
  },
  {
   "cell_type": "code",
   "execution_count": 5,
   "outputs": [
    {
     "name": "stdout",
     "output_type": "stream",
     "text": [
      "Model: \"sequential\"\n",
      "_________________________________________________________________\n",
      " Layer (type)                Output Shape              Param #   \n",
      "=================================================================\n",
      " vgg16 (Functional)          (None, 7, 7, 512)         14714688  \n",
      "                                                                 \n",
      " flatten (Flatten)           (None, 25088)             0         \n",
      "                                                                 \n",
      "=================================================================\n",
      "Total params: 14,714,688\n",
      "Trainable params: 14,714,688\n",
      "Non-trainable params: 0\n",
      "_________________________________________________________________\n"
     ]
    }
   ],
   "source": [
    "model.summary()"
   ],
   "metadata": {
    "collapsed": false,
    "ExecuteTime": {
     "end_time": "2024-01-26T18:46:07.637939300Z",
     "start_time": "2024-01-26T18:46:07.591441800Z"
    }
   },
   "id": "49b6faf102c1860e"
  },
  {
   "cell_type": "code",
   "execution_count": 6,
   "outputs": [
    {
     "name": "stdout",
     "output_type": "stream",
     "text": [
      "Model: \"sequential\"\n",
      "_________________________________________________________________\n",
      " Layer (type)                Output Shape              Param #   \n",
      "=================================================================\n",
      " vgg16 (Functional)          (None, 7, 7, 512)         14714688  \n",
      "                                                                 \n",
      " flatten (Flatten)           (None, 25088)             0         \n",
      "                                                                 \n",
      " dense (Dense)               (None, 1024)              25691136  \n",
      "                                                                 \n",
      " dense_1 (Dense)             (None, 512)               524800    \n",
      "                                                                 \n",
      " dense_2 (Dense)             (None, 256)               131328    \n",
      "                                                                 \n",
      " dropout (Dropout)           (None, 256)               0         \n",
      "                                                                 \n",
      " dense_3 (Dense)             (None, 128)               32896     \n",
      "                                                                 \n",
      " dense_4 (Dense)             (None, 4)                 516       \n",
      "                                                                 \n",
      "=================================================================\n",
      "Total params: 41,095,364\n",
      "Trainable params: 41,095,364\n",
      "Non-trainable params: 0\n",
      "_________________________________________________________________\n"
     ]
    }
   ],
   "source": [
    "model.add(Dense(1024,activation=('relu'),input_dim=512))\n",
    "model.add(Dense(512,activation=('relu'))) \n",
    "model.add(Dense(256,activation=('relu'))) \n",
    "model.add(Dropout(.3))\n",
    "model.add(Dense(128,activation=('relu')))\n",
    "#model.add(Dropout(.2))\n",
    "model.add(Dense(4,activation=('softmax'))) \n",
    "\n",
    "#Checking the final model summary\n",
    "model.summary()"
   ],
   "metadata": {
    "collapsed": false,
    "ExecuteTime": {
     "end_time": "2024-01-26T18:46:09.696523100Z",
     "start_time": "2024-01-26T18:46:08.834899900Z"
    }
   },
   "id": "f2858aaeb817c3b5"
  },
  {
   "cell_type": "code",
   "execution_count": 7,
   "outputs": [],
   "source": [
    "from keras.optimizers.schedules.learning_rate_schedule import ExponentialDecay\n",
    "\n",
    "batch_size= 1218\n",
    "epochs=15\n",
    "learn_rate=.001\n",
    "sgd=SGD(learning_rate=learn_rate,momentum=.9,nesterov=False)\n",
    "initial_learning_rate = 0.1\n",
    "lr_schedule = ExponentialDecay(\n",
    "    initial_learning_rate,\n",
    "    decay_steps=100000,\n",
    "    decay_rate=0.96,\n",
    "    staircase=True)\n",
    "\n",
    "adam = Adam(learning_rate=lr_schedule)\n",
    "model.compile(optimizer=sgd, loss='categorical_crossentropy', metrics=['accuracy'])"
   ],
   "metadata": {
    "collapsed": false,
    "ExecuteTime": {
     "end_time": "2024-01-26T18:46:09.842983900Z",
     "start_time": "2024-01-26T18:46:09.719036500Z"
    }
   },
   "id": "cc54aefcd1104826"
  },
  {
   "cell_type": "code",
   "execution_count": 8,
   "outputs": [
    {
     "name": "stdout",
     "output_type": "stream",
     "text": [
      "Epoch 1/5\n",
      "399/399 [==============================] - 3907s 10s/step - loss: 1.0582 - accuracy: 0.5789 - val_loss: 0.8452 - val_accuracy: 0.6916\n",
      "Epoch 2/5\n",
      "399/399 [==============================] - 3382s 8s/step - loss: 0.4638 - accuracy: 0.8238 - val_loss: 0.2166 - val_accuracy: 0.9155\n",
      "Epoch 3/5\n",
      "399/399 [==============================] - 3407s 9s/step - loss: 0.1672 - accuracy: 0.9412 - val_loss: 0.0708 - val_accuracy: 0.9694\n",
      "Epoch 4/5\n",
      "399/399 [==============================] - 3374s 8s/step - loss: 0.0642 - accuracy: 0.9775 - val_loss: 0.0222 - val_accuracy: 0.9911\n",
      "Epoch 5/5\n",
      "399/399 [==============================] - 3373s 8s/step - loss: 0.0359 - accuracy: 0.9884 - val_loss: 0.0572 - val_accuracy: 0.9871\n"
     ]
    }
   ],
   "source": [
    "history = model.fit(train_generator,epochs = 5\n",
    "          , validation_data = valid_generator, verbose = 1)"
   ],
   "metadata": {
    "collapsed": false,
    "ExecuteTime": {
     "end_time": "2024-01-26T23:36:55.757747300Z",
     "start_time": "2024-01-26T18:46:12.082259700Z"
    }
   },
   "id": "c64d76811f0c0509"
  },
  {
   "cell_type": "code",
   "execution_count": 9,
   "outputs": [],
   "source": [
    "def print_info( test_gen, preds, print_code, save_dir, subject ):\n",
    "    class_dict=test_gen.class_indices\n",
    "    labels= test_gen.labels\n",
    "    file_names= test_gen.filenames \n",
    "    error_list=[]\n",
    "    true_class=[]\n",
    "    pred_class=[]\n",
    "    prob_list=[]\n",
    "    new_dict={}\n",
    "    error_indices=[]\n",
    "    y_pred=[]\n",
    "    for key,value in class_dict.items():\n",
    "        new_dict[value]=key             # dictionary {integer of class number: string of class name}\n",
    "    # store new_dict as a text fine in the save_dir\n",
    "    classes=list(new_dict.values())     # list of string of class names     \n",
    "    errors=0      \n",
    "    for i, p in enumerate(preds):\n",
    "        pred_index=np.argmax(p)         \n",
    "        true_index=labels[i]  # labels are integer values\n",
    "        if pred_index != true_index: # a misclassification has occurred\n",
    "            error_list.append(file_names[i])\n",
    "            true_class.append(new_dict[true_index])\n",
    "            pred_class.append(new_dict[pred_index])\n",
    "            prob_list.append(p[pred_index])\n",
    "            error_indices.append(true_index)            \n",
    "            errors=errors + 1\n",
    "        y_pred.append(pred_index)    \n",
    "    if print_code !=0:\n",
    "        if errors>0:\n",
    "            if print_code>errors:\n",
    "                r=errors\n",
    "            else:\n",
    "                r=print_code           \n",
    "            msg='{0:^28s}{1:^28s}{2:^28s}{3:^16s}'.format('Filename', 'Predicted Class' , 'True Class', 'Probability')\n",
    "            print_in_color(msg, (0,255,0),(55,65,80))\n",
    "            for i in range(r):                \n",
    "                split1=os.path.split(error_list[i])                \n",
    "                split2=os.path.split(split1[0])                \n",
    "                fname=split2[1] + '/' + split1[1]\n",
    "                msg='{0:^28s}{1:^28s}{2:^28s}{3:4s}{4:^6.4f}'.format(fname, pred_class[i],true_class[i], ' ', prob_list[i])\n",
    "                print_in_color(msg, (255,255,255), (55,65,60))\n",
    "                #print(error_list[i]  , pred_class[i], true_class[i], prob_list[i])               \n",
    "        else:\n",
    "            msg='With accuracy of 100 % there are no errors to print'\n",
    "            print_in_color(msg, (0,255,0),(55,65,80))\n",
    "    if errors>0:\n",
    "        plot_bar=[]\n",
    "        plot_class=[]\n",
    "        for  key, value in new_dict.items():        \n",
    "            count=error_indices.count(key) \n",
    "            if count!=0:\n",
    "                plot_bar.append(count) # list containg how many times a class c had an error\n",
    "                plot_class.append(value)   # stores the class \n",
    "        fig=plt.figure()\n",
    "        fig.set_figheight(len(plot_class)/3)\n",
    "        fig.set_figwidth(10)\n",
    "        plt.style.use('fivethirtyeight')\n",
    "        for i in range(0, len(plot_class)):\n",
    "            c=plot_class[i]\n",
    "            x=plot_bar[i]\n",
    "            plt.barh(c, x, )\n",
    "            plt.title( ' Errors by Class on Test Set')\n",
    "    y_true= np.array(labels)        \n",
    "    y_pred=np.array(y_pred)\n",
    "    if len(classes)<= 40:\n",
    "        # create a confusion matrix \n",
    "        cm = confusion_matrix(y_true, y_pred )        \n",
    "        length=len(classes)\n",
    "        if length<8:\n",
    "            fig_width=8\n",
    "            fig_height=8\n",
    "        else:\n",
    "            fig_width= int(length * .5)\n",
    "            fig_height= int(length * .5)\n",
    "        plt.figure(figsize=(fig_width, fig_height))\n",
    "        sns.heatmap(cm, annot=True, vmin=0, fmt='g', cmap='Blues', cbar=False)       \n",
    "        plt.xticks(np.arange(length)+.5, classes, rotation= 90)\n",
    "        plt.yticks(np.arange(length)+.5, classes, rotation=0)\n",
    "        plt.xlabel(\"Predicted\")\n",
    "        plt.ylabel(\"Actual\")\n",
    "        plt.title(\"Confusion Matrix\")\n",
    "        plt.show()\n",
    "    clr = classification_report(y_true, y_pred, target_names=classes)\n",
    "    print(\"Classification Report:\\n----------------------\\n\", clr)"
   ],
   "metadata": {
    "collapsed": false,
    "ExecuteTime": {
     "end_time": "2024-01-27T00:35:49.654645100Z",
     "start_time": "2024-01-27T00:35:49.623733700Z"
    }
   },
   "id": "d94cc32df7b113af"
  },
  {
   "cell_type": "code",
   "execution_count": 10,
   "outputs": [],
   "source": [
    "def print_in_color(txt_msg,fore_tupple,back_tupple,):\n",
    "    #prints the text_msg in the foreground color specified by fore_tupple with the background specified by back_tupple \n",
    "    #text_msg is the text, fore_tupple is foregroud color tupple (r,g,b), back_tupple is background tupple (r,g,b)\n",
    "    rf,gf,bf=fore_tupple\n",
    "    rb,gb,bb=back_tupple\n",
    "    msg='{0}' + txt_msg\n",
    "    mat='\\33[38;2;' + str(rf) +';' + str(gf) + ';' + str(bf) + ';48;2;' + str(rb) + ';' +str(gb) + ';' + str(bb) +'m' \n",
    "    print(msg .format(mat), flush=True)\n",
    "    print('\\33[0m', flush=True) # returns default print color to back to black\n",
    "    return"
   ],
   "metadata": {
    "collapsed": false,
    "ExecuteTime": {
     "end_time": "2024-01-27T00:35:50.862631100Z",
     "start_time": "2024-01-27T00:35:50.850850700Z"
    }
   },
   "id": "3839a14c9bfcb4e4"
  },
  {
   "cell_type": "code",
   "execution_count": 11,
   "outputs": [
    {
     "name": "stdout",
     "output_type": "stream",
     "text": [
      "40/40 [==============================] - 106s 3s/step\n",
      "\u001B[38;2;0;255;0;48;2;55;65;80m          Filename                Predicted Class                True Class           Probability   \n",
      "\u001B[0m\n",
      "\u001B[38;2;255;255;255;48;2;55;65;60m Normal/Normal- (1432).jpg             Tumor                       Normal               0.7040\n",
      "\u001B[0m\n",
      "\u001B[38;2;255;255;255;48;2;55;65;60m Normal/Normal- (1847).jpg             Stone                       Normal               0.4705\n",
      "\u001B[0m\n",
      "\u001B[38;2;255;255;255;48;2;55;65;60m Normal/Normal- (2128).jpg             Tumor                       Normal               0.5666\n",
      "\u001B[0m\n",
      "\u001B[38;2;255;255;255;48;2;55;65;60m Normal/Normal- (4661).jpg             Tumor                       Normal               0.4712\n",
      "\u001B[0m\n",
      "\u001B[38;2;255;255;255;48;2;55;65;60m  Stone/Stone- (1331).jpg               Cyst                       Stone                0.7619\n",
      "\u001B[0m\n",
      "\u001B[38;2;255;255;255;48;2;55;65;60m  Stone/Stone- (1339).jpg               Cyst                       Stone                0.6909\n",
      "\u001B[0m\n",
      "\u001B[38;2;255;255;255;48;2;55;65;60m   Stone/Stone- (241).jpg               Cyst                       Stone                0.7392\n",
      "\u001B[0m\n",
      "\u001B[38;2;255;255;255;48;2;55;65;60m   Stone/Stone- (247).jpg               Cyst                       Stone                0.9528\n",
      "\u001B[0m\n",
      "\u001B[38;2;255;255;255;48;2;55;65;60m   Stone/Stone- (40).jpg                Cyst                       Stone                0.9993\n",
      "\u001B[0m\n",
      "\u001B[38;2;255;255;255;48;2;55;65;60m   Stone/Stone- (41).jpg                Cyst                       Stone                0.9998\n",
      "\u001B[0m\n"
     ]
    },
    {
     "data": {
      "text/plain": "<Figure size 1000x100 with 1 Axes>",
      "image/png": "[encoded data removed]"
     },
     "metadata": {},
     "output_type": "display_data"
    },
    {
     "data": {
      "text/plain": "<Figure size 800x800 with 1 Axes>",
      "image/png": "[encoded data removed]"
     },
     "metadata": {},
     "output_type": "display_data"
    },
    {
     "name": "stdout",
     "output_type": "stream",
     "text": [
      "Classification Report:\n",
      "----------------------\n",
      "               precision    recall  f1-score   support\n",
      "\n",
      "        Cyst       0.97      1.00      0.98       372\n",
      "      Normal       1.00      0.99      1.00       509\n",
      "       Stone       0.97      0.92      0.94       139\n",
      "       Tumor       0.99      0.98      0.98       229\n",
      "\n",
      "    accuracy                           0.98      1249\n",
      "   macro avg       0.98      0.97      0.98      1249\n",
      "weighted avg       0.98      0.98      0.98      1249\n"
     ]
    }
   ],
   "source": [
    "import seaborn as sns\n",
    "sns.set_style('darkgrid')\n",
    "from PIL import Image\n",
    "from sklearn.metrics import confusion_matrix, classification_report\n",
    "p = model.predict(test_generator)\n",
    "print_info( test_generator, p, 10, r'./', 'kidney' )"
   ],
   "metadata": {
    "collapsed": false,
    "ExecuteTime": {
     "end_time": "2024-01-27T00:37:38.643891900Z",
     "start_time": "2024-01-27T00:35:52.442956100Z"
    }
   },
   "id": "c87640e6f6aef56e"
  },
  {
   "cell_type": "code",
   "execution_count": 12,
   "outputs": [
    {
     "name": "stdout",
     "output_type": "stream",
     "text": [
      "40/40 [==============================] - 107s 3s/step - loss: 0.0509 - accuracy: 0.9840\n"
     ]
    },
    {
     "data": {
      "text/plain": "[0.050857655704021454, 0.9839872121810913]"
     },
     "execution_count": 12,
     "metadata": {},
     "output_type": "execute_result"
    }
   ],
   "source": [
    "model.evaluate(test_generator)"
   ],
   "metadata": {
    "collapsed": false,
    "ExecuteTime": {
     "end_time": "2024-01-27T00:40:25.411505700Z",
     "start_time": "2024-01-27T00:38:37.870786500Z"
    }
   },
   "id": "6c69ed8aeb5e4fdb"
  },
  {
   "cell_type": "code",
   "execution_count": 13,
   "outputs": [],
   "source": [
    "model.save(\"vgg16.h5\")"
   ],
   "metadata": {
    "collapsed": false,
    "ExecuteTime": {
     "end_time": "2024-01-27T00:40:25.743786700Z",
     "start_time": "2024-01-27T00:40:25.405263Z"
    }
   },
   "id": "bc9b9c093e381381"
  },
  {
   "cell_type": "code",
   "execution_count": 14,
   "outputs": [],
   "source": [
    "import shutil \n",
    "shutil.rmtree('./dataset')"
   ],
   "metadata": {
    "collapsed": false,
    "ExecuteTime": {
     "end_time": "2024-01-27T02:05:43.387249800Z",
     "start_time": "2024-01-27T02:05:40.881436700Z"
    }
   },
   "id": "9fe2ccd50d0383"
  },
  {
   "cell_type": "code",
   "execution_count": 15,
   "outputs": [
    {
     "data": {
      "text/plain": "5"
     },
     "execution_count": 15,
     "metadata": {},
     "output_type": "execute_result"
    }
   ],
   "source": [
    "history.params\n",
    "history.history.keys()\n",
    "type(history.history['loss'])\n",
    "len(history.history['loss'])"
   ],
   "metadata": {
    "collapsed": false,
    "ExecuteTime": {
     "end_time": "2024-01-27T02:05:46.057097700Z",
     "start_time": "2024-01-27T02:05:46.039560900Z"
    }
   },
   "id": "7086f8cf86e27ae0"
  },
  {
   "cell_type": "code",
   "execution_count": 16,
   "outputs": [],
   "source": [
    "acc = history.history['accuracy']\n",
    "val_acc = history.history['val_accuracy']"
   ],
   "metadata": {
    "collapsed": false,
    "ExecuteTime": {
     "end_time": "2024-01-27T02:05:47.427382800Z",
     "start_time": "2024-01-27T02:05:47.415933600Z"
    }
   },
   "id": "da8e9ed9c9ba9105"
  },
  {
   "cell_type": "code",
   "execution_count": 17,
   "outputs": [],
   "source": [
    "loss = history.history['loss']\n",
    "val_loss = history.history['val_loss']"
   ],
   "metadata": {
    "collapsed": false,
    "ExecuteTime": {
     "end_time": "2024-01-27T02:05:48.610240500Z",
     "start_time": "2024-01-27T02:05:48.602185200Z"
    }
   },
   "id": "7a8a1227660a72"
  },
  {
   "cell_type": "code",
   "execution_count": 18,
   "outputs": [
    {
     "data": {
      "text/plain": "Text(0.5, 1.0, 'Training and Validation Accuracy')"
     },
     "execution_count": 18,
     "metadata": {},
     "output_type": "execute_result"
    },
    {
     "data": {
      "text/plain": "<Figure size 800x800 with 1 Axes>",
      "image/png": "[encoded data removed]"
     },
     "metadata": {},
     "output_type": "display_data"
    }
   ],
   "source": [
    "plt.figure(figsize=(8, 8))\n",
    "plt.subplot(1, 2, 1)\n",
    "plt.plot(range(5), acc, label='Training Accuracy')\n",
    "plt.plot(range(5), val_acc, label='Validation Accuracy')\n",
    "plt.legend(loc='lower right')\n",
    "plt.title('Training and Validation Accuracy')"
   ],
   "metadata": {
    "collapsed": false,
    "ExecuteTime": {
     "end_time": "2024-01-27T02:05:49.376855200Z",
     "start_time": "2024-01-27T02:05:49.178561500Z"
    }
   },
   "id": "a29298910c13c78f"
  },
  {
   "cell_type": "code",
   "execution_count": 19,
   "outputs": [
    {
     "data": {
      "text/plain": "<Figure size 640x480 with 1 Axes>",
      "image/png": "[encoded data removed]"
     },
     "metadata": {},
     "output_type": "display_data"
    }
   ],
   "source": [
    "plt.subplot(1, 2, 2)\n",
    "plt.plot(range(5), loss, label='Training Loss')\n",
    "plt.plot(range(5), val_loss, label='Validation Loss')\n",
    "plt.legend(loc='upper right')\n",
    "plt.title('Training and Validation Loss')\n",
    "plt.show()"
   ],
   "metadata": {
    "collapsed": false,
    "ExecuteTime": {
     "end_time": "2024-01-27T02:05:50.732263600Z",
     "start_time": "2024-01-27T02:05:50.574458200Z"
    }
   },
   "id": "2c671d78eaada5da"
  },
  {
   "cell_type": "code",
   "outputs": [],
   "source": [
    "from sklearn.preprocessing import LabelEncoder\n",
    "import pickle\n",
    "\n",
    "# Assuming 'classes' is your list of class labels\n",
    "classes = [\"Cyst\", \"Normal\", \"Stone\", \"Tumor\"]\n",
    "\n",
    "# Create a label encoder\n",
    "label_maker = LabelEncoder()\n",
    "label_maker.fit(classes)\n",
    "\n",
    "# Save the label maker to a file\n",
    "with open('label_maker.pkl', 'wb') as f:\n",
    "    pickle.dump(label_maker, f)"
   ],
   "metadata": {
    "collapsed": false,
    "ExecuteTime": {
     "end_time": "2024-01-27T11:52:19.471941300Z",
     "start_time": "2024-01-27T11:52:19.353271400Z"
    }
   },
   "id": "8e2f00290d6ab5a5",
   "execution_count": 1
  },
  {
   "cell_type": "code",
   "outputs": [],
   "source": [],
   "metadata": {
    "collapsed": false
   },
   "id": "667392654d9b90fd"
  }
 ],
 "metadata": {
  "kernelspec": {
   "display_name": "Python 3",
   "language": "python",
   "name": "python3"
  },
  "language_info": {
   "codemirror_mode": {
    "name": "ipython",
    "version": 2
   },
   "file_extension": ".py",
   "mimetype": "text/x-python",
   "name": "python",
   "nbconvert_exporter": "python",
   "pygments_lexer": "ipython2",
   "version": "2.7.6"
  }
 },
 "nbformat": 4,
 "nbformat_minor": 5
}
