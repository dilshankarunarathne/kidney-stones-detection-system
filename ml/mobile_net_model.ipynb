{
 "cells": [
  {
   "cell_type": "code",
   "execution_count": null,
   "id": "initial_id",
   "metadata": {
    "collapsed": true
   },
   "outputs": [],
   "source": []
  },
  {
   "cell_type": "code",
   "outputs": [],
   "source": [
    "mobile_net = Sequential()\n",
    "\n",
    "pretrained_model= tf.keras.applications.MobileNetV2(include_top=False,\n",
    "                   input_shape=(150,150,3),\n",
    "                   pooling='max',classes=4,\n",
    "                   weights='imagenet')\n",
    "\n",
    "\n",
    "mobile_net.add(pretrained_model)\n",
    "mobile_net.add(Flatten())\n",
    "mobile_net.add(Dense(512, activation='relu'))\n",
    "mobile_net.add(BatchNormalization())  # Batch Normalization layer\n",
    "mobile_net.add(Dropout(0.5))\n",
    "\n",
    "mobile_net.add(Dense(4, activation='softmax'))\n",
    "pretrained_model.trainable=False"
   ],
   "metadata": {
    "collapsed": false
   },
   "id": "beb37d5d8a12d93d"
  },
  {
   "cell_type": "code",
   "outputs": [],
   "source": [
    "mobile_net.compile(optimizer='adam',loss='sparse_categorical_crossentropy',metrics=['accuracy'])"
   ],
   "metadata": {
    "collapsed": false
   },
   "id": "7648e05553ba7693"
  },
  {
   "cell_type": "code",
   "outputs": [],
   "source": [
    "mobile_net.summary()"
   ],
   "metadata": {
    "collapsed": false
   },
   "id": "ab2ad4439f71ef93"
  }
 ],
 "metadata": {
  "kernelspec": {
   "display_name": "Python 3",
   "language": "python",
   "name": "python3"
  },
  "language_info": {
   "codemirror_mode": {
    "name": "ipython",
    "version": 2
   },
   "file_extension": ".py",
   "mimetype": "text/x-python",
   "name": "python",
   "nbconvert_exporter": "python",
   "pygments_lexer": "ipython2",
   "version": "2.7.6"
  }
 },
 "nbformat": 4,
 "nbformat_minor": 5
}
