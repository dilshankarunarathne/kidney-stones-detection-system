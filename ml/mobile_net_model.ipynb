{
 "cells": [
  {
   "cell_type": "code",
   "execution_count": null,
   "id": "initial_id",
   "metadata": {
    "collapsed": true
   },
   "outputs": [],
   "source": []
  },
  {
   "cell_type": "code",
   "outputs": [],
   "source": [
    "mobile_net = Sequential()\n",
    "\n",
    "pretrained_model= tf.keras.applications.MobileNetV2(include_top=False,\n",
    "                   input_shape=(150,150,3),\n",
    "                   pooling='max',classes=4,\n",
    "                   weights='imagenet')\n",
    "\n",
    "\n",
    "mobile_net.add(pretrained_model)\n",
    "mobile_net.add(Flatten())\n",
    "mobile_net.add(Dense(512, activation='relu'))\n",
    "mobile_net.add(BatchNormalization())  # Batch Normalization layer\n",
    "mobile_net.add(Dropout(0.5))\n",
    "\n",
    "mobile_net.add(Dense(4, activation='softmax'))\n",
    "pretrained_model.trainable=False"
   ],
   "metadata": {
    "collapsed": false
   },
   "id": "beb37d5d8a12d93d"
  },
  {
   "cell_type": "code",
   "outputs": [],
   "source": [
    "mobile_net.compile(optimizer='adam',loss='sparse_categorical_crossentropy',metrics=['accuracy'])"
   ],
   "metadata": {
    "collapsed": false
   },
   "id": "7648e05553ba7693"
  },
  {
   "cell_type": "code",
   "outputs": [],
   "source": [
    "mobile_net.summary()"
   ],
   "metadata": {
    "collapsed": false
   },
   "id": "ab2ad4439f71ef93"
  },
  {
   "cell_type": "code",
   "outputs": [],
   "source": [
    "epochs=15\n",
    "history = mobile_net.fit(\n",
    "  train,\n",
    "  validation_data=val,\n",
    "  epochs=epochs\n",
    ")"
   ],
   "metadata": {
    "collapsed": false
   },
   "id": "144aff7c30017f84"
  },
  {
   "cell_type": "code",
   "outputs": [],
   "source": [
    "loss = history.history['loss']\n",
    "val_loss = history.history['val_loss']\n",
    "epochs = range(1, len(loss)+1)\n",
    "plt.plot(epochs, loss, 'b', label='Training loss')\n",
    "plt.plot(epochs, val_loss, 'r', label='Validation loss')\n",
    "plt.title('Training and Validation Loss')\n",
    "plt.xlabel('Epochs')\n",
    "plt.ylabel('Loss')\n",
    "plt.legend()\n",
    "plt.show()"
   ],
   "metadata": {
    "collapsed": false
   },
   "id": "f06886bb883ab5ed"
  },
  {
   "cell_type": "code",
   "outputs": [],
   "source": [
    "acc = history.history['accuracy']\n",
    "val_acc = history.history['val_accuracy']\n",
    "plt.plot(epochs, acc, 'b', label='Training acc')\n",
    "plt.plot(epochs, val_acc, 'r', label='Validation acc')\n",
    "plt.title('Training and Validation Accuracy')\n",
    "plt.xlabel('Epochs')\n",
    "plt.ylabel('Accuracy')\n",
    "plt.legend()\n",
    "plt.show()"
   ],
   "metadata": {
    "collapsed": false
   },
   "id": "d422b1bc9f39870b"
  },
  {
   "cell_type": "code",
   "outputs": [],
   "source": [
    "img = cv2.imread('test.jpg')\n",
    "plt.imshow(img)\n",
    "plt.show()\n",
    "resize = tf.image.resize(img, (150,150))\n",
    "yhat = mobile_net.predict(np.expand_dims(resize/255, 0))\n",
    "max_index = np.argmax(yhat)\n",
    "label_to_class_name[max_index]"
   ],
   "metadata": {
    "collapsed": false
   },
   "id": "fcbcb6b3b06b39ef"
  },
  {
   "cell_type": "code",
   "outputs": [],
   "source": [
    "mobile_net.save(\"model.h5\")"
   ],
   "metadata": {
    "collapsed": false
   },
   "id": "a2696666f81f6d98"
  },
  {
   "cell_type": "markdown",
   "source": [
    "# Load Model"
   ],
   "metadata": {
    "collapsed": false
   },
   "id": "a3e4874fcedd9f41"
  },
  {
   "cell_type": "code",
   "outputs": [],
   "source": [],
   "metadata": {
    "collapsed": false
   },
   "id": "f859fe27c30dc324"
  }
 ],
 "metadata": {
  "kernelspec": {
   "display_name": "Python 3",
   "language": "python",
   "name": "python3"
  },
  "language_info": {
   "codemirror_mode": {
    "name": "ipython",
    "version": 2
   },
   "file_extension": ".py",
   "mimetype": "text/x-python",
   "name": "python",
   "nbconvert_exporter": "python",
   "pygments_lexer": "ipython2",
   "version": "2.7.6"
  }
 },
 "nbformat": 4,
 "nbformat_minor": 5
}
