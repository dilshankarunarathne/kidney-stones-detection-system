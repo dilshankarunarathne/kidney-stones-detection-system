{
 "cells": [
  {
   "cell_type": "code",
   "execution_count": null,
   "id": "initial_id",
   "metadata": {
    "collapsed": true
   },
   "outputs": [],
   "source": [
    "import pandas as pd\n",
    "import numpy as np\n",
    "import matplotlib.pyplot as plt\n",
    "import cv2\n",
    "import tensorflow as tf\n",
    "import os\n",
    "from tensorflow import keras\n",
    "from tensorflow.keras import layers\n",
    "from tensorflow.python.keras.layers import Dense, Flatten\n",
    "from tensorflow.keras.models import Sequential\n",
    "from tensorflow.keras.optimizers import Adam\n",
    "\n",
    "from tensorflow.keras.layers import Flatten,Dense,Dropout,BatchNormalization\n",
    "from tensorflow.keras.models import Model,Sequential\n",
    " \n",
    "from tensorflow.keras.layers import Conv2D, MaxPooling2D\n",
    "from tensorflow.keras.layers import GlobalAveragePooling2D"
   ]
  },
  {
   "cell_type": "code",
   "outputs": [],
   "source": [
    "batch_size = 32\n",
    "img_height = 150\n",
    "img_width = 150"
   ],
   "metadata": {
    "collapsed": false
   },
   "id": "d576989214ba26"
  },
  {
   "cell_type": "code",
   "outputs": [],
   "source": [
    "data_dir='/kaggle/input/ct-kidney-dataset-normal-cyst-tumor-and-stone/CT-KIDNEY-DATASET-Normal-Cyst-Tumor-Stone/CT-KIDNEY-DATASET-Normal-Cyst-Tumor-Stone'\n",
    "train=tf.keras.utils.image_dataset_from_directory(data_dir,image_size=(img_height,img_width),\n",
    "                                                validation_split=0.1,\n",
    "                                                subset='training',seed=123)\n",
    "val=tf.keras.utils.image_dataset_from_directory(data_dir,image_size=(img_height,img_width),\n",
    "                                                validation_split=0.2,\n",
    "                                                subset='validation',seed=123)"
   ],
   "metadata": {
    "collapsed": false
   },
   "id": "f819c69170abcf11"
  },
  {
   "cell_type": "code",
   "outputs": [],
   "source": [
    "label_to_class_name = dict(zip(range(len(train.class_names)), train.class_names))\n",
    "label_to_class_name"
   ],
   "metadata": {
    "collapsed": false
   },
   "id": "a110000c5b327bbc"
  },
  {
   "cell_type": "code",
   "outputs": [],
   "source": [
    "for image_batch, labels_batch in train:\n",
    "  print(image_batch.shape)\n",
    "  print(labels_batch.shape)\n",
    "  break"
   ],
   "metadata": {
    "collapsed": false
   },
   "id": "77eaa7039d50ac55"
  },
  {
   "cell_type": "code",
   "outputs": [],
   "source": [
    "data_iterator = train.as_numpy_iterator()\n",
    "batch = data_iterator.next()\n",
    "fig, ax = plt.subplots(nrows=4, ncols=4, figsize=(10, 10))\n",
    "for i in range(4):  \n",
    "    for j in range(4):  \n",
    "        index = i * 4 + j  \n",
    "        ax[i, j].imshow(batch[0][index].astype(int))\n",
    "        ax[i, j].set_title(label_to_class_name[batch[1][index]])\n",
    "plt.subplots_adjust(wspace=0.4, hspace=0.4)\n",
    "plt.show()"
   ],
   "metadata": {
    "collapsed": false
   },
   "id": "f0d8f27ed1bc8be"
  },
  {
   "cell_type": "code",
   "outputs": [],
   "source": [
    "train=train.map(lambda x,y:(x/255,y))\n",
    "val=val.map(lambda x,y:(x/255,y))"
   ],
   "metadata": {
    "collapsed": false
   },
   "id": "3e6f4a500e8923c8"
  },
  {
   "cell_type": "code",
   "outputs": [],
   "source": [],
   "metadata": {
    "collapsed": false
   },
   "id": "92a840061a7e80e7"
  },
  {
   "cell_type": "code",
   "outputs": [],
   "source": [],
   "metadata": {
    "collapsed": false
   },
   "id": "782938764ccab9be"
  },
  {
   "cell_type": "code",
   "outputs": [],
   "source": [
    "mobile_net = Sequential()\n",
    "\n",
    "pretrained_model= tf.keras.applications.MobileNetV2(include_top=False,\n",
    "                   input_shape=(150,150,3),\n",
    "                   pooling='max',classes=4,\n",
    "                   weights='imagenet')\n",
    "\n",
    "\n",
    "mobile_net.add(pretrained_model)\n",
    "mobile_net.add(Flatten())\n",
    "mobile_net.add(Dense(512, activation='relu'))\n",
    "mobile_net.add(BatchNormalization())  # Batch Normalization layer\n",
    "mobile_net.add(Dropout(0.5))\n",
    "\n",
    "mobile_net.add(Dense(4, activation='softmax'))\n",
    "pretrained_model.trainable=False"
   ],
   "metadata": {
    "collapsed": false
   },
   "id": "beb37d5d8a12d93d"
  },
  {
   "cell_type": "code",
   "outputs": [],
   "source": [
    "mobile_net.compile(optimizer='adam',loss='sparse_categorical_crossentropy',metrics=['accuracy'])"
   ],
   "metadata": {
    "collapsed": false
   },
   "id": "7648e05553ba7693"
  },
  {
   "cell_type": "code",
   "outputs": [],
   "source": [
    "mobile_net.summary()"
   ],
   "metadata": {
    "collapsed": false
   },
   "id": "ab2ad4439f71ef93"
  },
  {
   "cell_type": "code",
   "outputs": [],
   "source": [
    "epochs=15\n",
    "history = mobile_net.fit(\n",
    "  train,\n",
    "  validation_data=val,\n",
    "  epochs=epochs\n",
    ")"
   ],
   "metadata": {
    "collapsed": false
   },
   "id": "144aff7c30017f84"
  },
  {
   "cell_type": "code",
   "outputs": [],
   "source": [
    "loss = history.history['loss']\n",
    "val_loss = history.history['val_loss']\n",
    "epochs = range(1, len(loss)+1)\n",
    "plt.plot(epochs, loss, 'b', label='Training loss')\n",
    "plt.plot(epochs, val_loss, 'r', label='Validation loss')\n",
    "plt.title('Training and Validation Loss')\n",
    "plt.xlabel('Epochs')\n",
    "plt.ylabel('Loss')\n",
    "plt.legend()\n",
    "plt.show()"
   ],
   "metadata": {
    "collapsed": false
   },
   "id": "f06886bb883ab5ed"
  },
  {
   "cell_type": "code",
   "outputs": [],
   "source": [
    "acc = history.history['accuracy']\n",
    "val_acc = history.history['val_accuracy']\n",
    "plt.plot(epochs, acc, 'b', label='Training acc')\n",
    "plt.plot(epochs, val_acc, 'r', label='Validation acc')\n",
    "plt.title('Training and Validation Accuracy')\n",
    "plt.xlabel('Epochs')\n",
    "plt.ylabel('Accuracy')\n",
    "plt.legend()\n",
    "plt.show()"
   ],
   "metadata": {
    "collapsed": false
   },
   "id": "d422b1bc9f39870b"
  },
  {
   "cell_type": "code",
   "outputs": [],
   "source": [
    "img = cv2.imread('test.jpg')\n",
    "plt.imshow(img)\n",
    "plt.show()\n",
    "resize = tf.image.resize(img, (150,150))\n",
    "yhat = mobile_net.predict(np.expand_dims(resize/255, 0))\n",
    "max_index = np.argmax(yhat)\n",
    "label_to_class_name[max_index]"
   ],
   "metadata": {
    "collapsed": false
   },
   "id": "fcbcb6b3b06b39ef"
  },
  {
   "cell_type": "code",
   "outputs": [],
   "source": [
    "mobile_net.save(\"model.h5\")"
   ],
   "metadata": {
    "collapsed": false
   },
   "id": "a2696666f81f6d98"
  },
  {
   "cell_type": "markdown",
   "source": [
    "# Load Model"
   ],
   "metadata": {
    "collapsed": false
   },
   "id": "a3e4874fcedd9f41"
  },
  {
   "cell_type": "code",
   "outputs": [],
   "source": [
    "loaded_model = tf.keras.models.load_model(\"model.h5\")"
   ],
   "metadata": {
    "collapsed": false
   },
   "id": "f859fe27c30dc324"
  },
  {
   "cell_type": "code",
   "outputs": [],
   "source": [
    "img = cv2.imread('/kaggle/input/ct-kidney-dataset-normal-cyst-tumor-and-stone/CT-KIDNEY-DATASET-Normal-Cyst-Tumor-Stone/CT-KIDNEY-DATASET-Normal-Cyst-Tumor-Stone/Cyst/Cyst- (1000).jpg')\n",
    "plt.imshow(img)\n",
    "plt.show()\n",
    "resize = tf.image.resize(img, (150,150))\n",
    "yhat = loaded_model.predict(np.expand_dims(resize/255, 0))\n",
    "max_index = np.argmax(yhat)\n",
    "label_to_class_name[max_index]"
   ],
   "metadata": {
    "collapsed": false
   },
   "id": "c74a5729304aac9b"
  }
 ],
 "metadata": {
  "kernelspec": {
   "display_name": "Python 3",
   "language": "python",
   "name": "python3"
  },
  "language_info": {
   "codemirror_mode": {
    "name": "ipython",
    "version": 2
   },
   "file_extension": ".py",
   "mimetype": "text/x-python",
   "name": "python",
   "nbconvert_exporter": "python",
   "pygments_lexer": "ipython2",
   "version": "2.7.6"
  }
 },
 "nbformat": 4,
 "nbformat_minor": 5
}
